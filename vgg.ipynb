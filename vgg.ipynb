{
  "nbformat": 4,
  "nbformat_minor": 0,
  "metadata": {
    "colab": {
      "name": "vgg.ipynb",
      "provenance": [],
      "authorship_tag": "ABX9TyPEWFas6gTQlEylZtAouzyd",
      "include_colab_link": true
    },
    "kernelspec": {
      "name": "python3",
      "display_name": "Python 3"
    },
    "accelerator": "GPU"
  },
  "cells": [
    {
      "cell_type": "markdown",
      "metadata": {
        "id": "view-in-github",
        "colab_type": "text"
      },
      "source": [
        "<a href=\"https://colab.research.google.com/github/bahkali/project-1-ML-Classifier/blob/main/vgg.ipynb\" target=\"_parent\"><img src=\"https://colab.research.google.com/assets/colab-badge.svg\" alt=\"Open In Colab\"/></a>"
      ]
    },
    {
      "cell_type": "code",
      "metadata": {
        "colab": {
          "base_uri": "https://localhost:8080/",
          "height": 35
        },
        "id": "MoeIsFmzG9ZR",
        "outputId": "cb4f2a78-b4da-47a7-acb7-c8ed0361e277"
      },
      "source": [
        "# Import Libraries\r\n",
        "import tensorflow as tf\r\n",
        "import matplotlib.pyplot as plt\r\n",
        "from tensorflow.keras.layers import Input, Conv2D, Dense, Flatten, Dropout, MaxPooling2D, BatchNormalization\r\n",
        "from tensorflow.keras.models import Model\r\n",
        "\r\n",
        "tf.__version__"
      ],
      "execution_count": 5,
      "outputs": [
        {
          "output_type": "execute_result",
          "data": {
            "application/vnd.google.colaboratory.intrinsic+json": {
              "type": "string"
            },
            "text/plain": [
              "'2.4.1'"
            ]
          },
          "metadata": {
            "tags": []
          },
          "execution_count": 5
        }
      ]
    },
    {
      "cell_type": "code",
      "metadata": {
        "colab": {
          "base_uri": "https://localhost:8080/"
        },
        "id": "6o3Z7rOAHzoQ",
        "outputId": "7aee350d-8375-42c8-f97e-ed62d00a9fb0"
      },
      "source": [
        "# import cifar-10 datasets\r\n",
        "\r\n",
        "(train_images, train_labels), (test_images, test_labels) =  tf.keras.datasets.cifar10.load_data()\r\n",
        "train_images.shape , train_labels.shape, test_images.shape, test_labels.shape"
      ],
      "execution_count": 2,
      "outputs": [
        {
          "output_type": "stream",
          "text": [
            "Downloading data from https://www.cs.toronto.edu/~kriz/cifar-10-python.tar.gz\n",
            "170500096/170498071 [==============================] - 3s 0us/step\n"
          ],
          "name": "stdout"
        },
        {
          "output_type": "execute_result",
          "data": {
            "text/plain": [
              "((50000, 32, 32, 3), (50000, 1), (10000, 32, 32, 3), (10000, 1))"
            ]
          },
          "metadata": {
            "tags": []
          },
          "execution_count": 2
        }
      ]
    },
    {
      "cell_type": "code",
      "metadata": {
        "id": "E0igNZY3Igud"
      },
      "source": [
        "# get partial image and normalize\r\n",
        "\r\n",
        "x_train, x_val = train_images[5000:] / 255.0, train_images[:5000]/255.0\r\n",
        "y_train, y_val = train_labels[5000:], train_labels[:5000]\r\n",
        "x_test = test_images / 255.0"
      ],
      "execution_count": 4,
      "outputs": []
    },
    {
      "cell_type": "code",
      "metadata": {
        "id": "134TqrF1JGSl"
      },
      "source": [
        "i = Input(shape=x_train[0].shape)\r\n",
        "x = Conv2D(32, (3,3), activation='relu', padding='same')(i)\r\n",
        "x = BatchNormalization()(x)\r\n",
        "x = Conv2D(32, (3,3), activation='relu', padding='same')(x)\r\n",
        "x = BatchNormalization()(x)\r\n",
        "x = MaxPooling2D((2,2))(x)\r\n",
        "x = Dropout(0.2)(x)\r\n",
        "\r\n",
        "x = Conv2D(64, (3,3), activation='relu', padding='same')(x)\r\n",
        "x = BatchNormalization()(x)\r\n",
        "x = Conv2D(64, (3,3), activation='relu', padding='same')(x)\r\n",
        "x = BatchNormalization()(x)\r\n",
        "x = MaxPooling2D((2,2))(x)\r\n",
        "x = Dropout(0.2)(x)\r\n",
        "\r\n",
        "x = Conv2D(128, (3,3), activation='relu', padding='same')(x)\r\n",
        "x = BatchNormalization()(x)\r\n",
        "x = Conv2D(128, (3,3), activation='relu', padding='same')(x)\r\n",
        "x = BatchNormalization()(x)\r\n",
        "x = MaxPooling2D((2,2))(x)\r\n",
        "x = Dropout(0.2)(x)\r\n",
        "\r\n",
        "x = Flatten()(x)\r\n",
        "x = Dropout(0.2)(x)\r\n",
        "x = Dense(1024, activation='relu')(x)\r\n",
        "x = Dropout(0.2)(x)\r\n",
        "x = Dense(10, activation='softmax')(x)\r\n",
        "\r\n",
        "model = Model(i, x)"
      ],
      "execution_count": 6,
      "outputs": []
    },
    {
      "cell_type": "code",
      "metadata": {
        "id": "T8C_y5GtLWZ2"
      },
      "source": [
        "model.compile(optimizer='adam',\r\n",
        "              loss='sparse_categorical_crossentropy', \r\n",
        "              metrics=['accuracy'])"
      ],
      "execution_count": 7,
      "outputs": []
    },
    {
      "cell_type": "code",
      "metadata": {
        "colab": {
          "base_uri": "https://localhost:8080/"
        },
        "id": "_abCY0-CLn0V",
        "outputId": "3f997bc9-efb1-45bb-b1e8-2f2469330514"
      },
      "source": [
        "r = model.fit(x_train, y_train, validation_data=(x_val, y_val), epochs=200, verbose=1)"
      ],
      "execution_count": 8,
      "outputs": [
        {
          "output_type": "stream",
          "text": [
            "Epoch 1/200\n",
            "1407/1407 [==============================] - 15s 6ms/step - loss: 1.9070 - accuracy: 0.4029 - val_loss: 1.2698 - val_accuracy: 0.5656\n",
            "Epoch 2/200\n",
            "1407/1407 [==============================] - 8s 5ms/step - loss: 1.0545 - accuracy: 0.6304 - val_loss: 1.0792 - val_accuracy: 0.6360\n",
            "Epoch 3/200\n",
            "1407/1407 [==============================] - 8s 5ms/step - loss: 0.8491 - accuracy: 0.7046 - val_loss: 0.7196 - val_accuracy: 0.7492\n",
            "Epoch 4/200\n",
            "1407/1407 [==============================] - 8s 6ms/step - loss: 0.7431 - accuracy: 0.7395 - val_loss: 0.6642 - val_accuracy: 0.7654\n",
            "Epoch 5/200\n",
            "1407/1407 [==============================] - 8s 5ms/step - loss: 0.6561 - accuracy: 0.7756 - val_loss: 0.7373 - val_accuracy: 0.7448\n",
            "Epoch 6/200\n",
            "1407/1407 [==============================] - 8s 5ms/step - loss: 0.5855 - accuracy: 0.7969 - val_loss: 0.8064 - val_accuracy: 0.7354\n",
            "Epoch 7/200\n",
            "1407/1407 [==============================] - 8s 6ms/step - loss: 0.5222 - accuracy: 0.8203 - val_loss: 0.5347 - val_accuracy: 0.8162\n",
            "Epoch 8/200\n",
            "1407/1407 [==============================] - 8s 6ms/step - loss: 0.4727 - accuracy: 0.8362 - val_loss: 0.6143 - val_accuracy: 0.8024\n",
            "Epoch 9/200\n",
            "1407/1407 [==============================] - 8s 6ms/step - loss: 0.4284 - accuracy: 0.8507 - val_loss: 0.5290 - val_accuracy: 0.8224\n",
            "Epoch 10/200\n",
            "1407/1407 [==============================] - 8s 6ms/step - loss: 0.4010 - accuracy: 0.8605 - val_loss: 0.6597 - val_accuracy: 0.7904\n",
            "Epoch 11/200\n",
            "1407/1407 [==============================] - 8s 6ms/step - loss: 0.3581 - accuracy: 0.8766 - val_loss: 0.5180 - val_accuracy: 0.8288\n",
            "Epoch 12/200\n",
            "1407/1407 [==============================] - 8s 6ms/step - loss: 0.3341 - accuracy: 0.8842 - val_loss: 0.4801 - val_accuracy: 0.8444\n",
            "Epoch 13/200\n",
            "1407/1407 [==============================] - 8s 6ms/step - loss: 0.2979 - accuracy: 0.8990 - val_loss: 0.5502 - val_accuracy: 0.8242\n",
            "Epoch 14/200\n",
            "1407/1407 [==============================] - 8s 6ms/step - loss: 0.2784 - accuracy: 0.9035 - val_loss: 0.5051 - val_accuracy: 0.8400\n",
            "Epoch 15/200\n",
            "1407/1407 [==============================] - 8s 6ms/step - loss: 0.2588 - accuracy: 0.9101 - val_loss: 0.4648 - val_accuracy: 0.8524\n",
            "Epoch 16/200\n",
            "1407/1407 [==============================] - 8s 6ms/step - loss: 0.2482 - accuracy: 0.9148 - val_loss: 0.5897 - val_accuracy: 0.8278\n",
            "Epoch 17/200\n",
            "1407/1407 [==============================] - 8s 6ms/step - loss: 0.2156 - accuracy: 0.9238 - val_loss: 0.5403 - val_accuracy: 0.8236\n",
            "Epoch 18/200\n",
            "1407/1407 [==============================] - 8s 6ms/step - loss: 0.2131 - accuracy: 0.9272 - val_loss: 0.4847 - val_accuracy: 0.8502\n",
            "Epoch 19/200\n",
            "1407/1407 [==============================] - 8s 6ms/step - loss: 0.1968 - accuracy: 0.9313 - val_loss: 0.5111 - val_accuracy: 0.8386\n",
            "Epoch 20/200\n",
            "1407/1407 [==============================] - 8s 6ms/step - loss: 0.1898 - accuracy: 0.9327 - val_loss: 0.6018 - val_accuracy: 0.8316\n",
            "Epoch 21/200\n",
            "1407/1407 [==============================] - 8s 6ms/step - loss: 0.1776 - accuracy: 0.9394 - val_loss: 0.5021 - val_accuracy: 0.8558\n",
            "Epoch 22/200\n",
            "1407/1407 [==============================] - 8s 6ms/step - loss: 0.1768 - accuracy: 0.9410 - val_loss: 0.5235 - val_accuracy: 0.8538\n",
            "Epoch 23/200\n",
            "1407/1407 [==============================] - 8s 6ms/step - loss: 0.1572 - accuracy: 0.9472 - val_loss: 0.5425 - val_accuracy: 0.8466\n",
            "Epoch 24/200\n",
            "1407/1407 [==============================] - 8s 6ms/step - loss: 0.1546 - accuracy: 0.9479 - val_loss: 0.5654 - val_accuracy: 0.8348\n",
            "Epoch 25/200\n",
            "1407/1407 [==============================] - 8s 6ms/step - loss: 0.1475 - accuracy: 0.9494 - val_loss: 0.5131 - val_accuracy: 0.8566\n",
            "Epoch 26/200\n",
            "1407/1407 [==============================] - 8s 6ms/step - loss: 0.1480 - accuracy: 0.9496 - val_loss: 0.5112 - val_accuracy: 0.8520\n",
            "Epoch 27/200\n",
            "1407/1407 [==============================] - 8s 6ms/step - loss: 0.1406 - accuracy: 0.9530 - val_loss: 0.5249 - val_accuracy: 0.8492\n",
            "Epoch 28/200\n",
            "1407/1407 [==============================] - 8s 6ms/step - loss: 0.1351 - accuracy: 0.9543 - val_loss: 0.5377 - val_accuracy: 0.8512\n",
            "Epoch 29/200\n",
            "1407/1407 [==============================] - 8s 6ms/step - loss: 0.1257 - accuracy: 0.9574 - val_loss: 0.5332 - val_accuracy: 0.8562\n",
            "Epoch 30/200\n",
            "1407/1407 [==============================] - 8s 6ms/step - loss: 0.1220 - accuracy: 0.9596 - val_loss: 0.5289 - val_accuracy: 0.8510\n",
            "Epoch 31/200\n",
            "1407/1407 [==============================] - 8s 6ms/step - loss: 0.1150 - accuracy: 0.9609 - val_loss: 0.5535 - val_accuracy: 0.8448\n",
            "Epoch 32/200\n",
            "1407/1407 [==============================] - 8s 6ms/step - loss: 0.1178 - accuracy: 0.9604 - val_loss: 0.5953 - val_accuracy: 0.8476\n",
            "Epoch 33/200\n",
            "1407/1407 [==============================] - 8s 6ms/step - loss: 0.1114 - accuracy: 0.9625 - val_loss: 0.5368 - val_accuracy: 0.8562\n",
            "Epoch 34/200\n",
            "1407/1407 [==============================] - 8s 6ms/step - loss: 0.1101 - accuracy: 0.9617 - val_loss: 0.5522 - val_accuracy: 0.8594\n",
            "Epoch 35/200\n",
            "1407/1407 [==============================] - 8s 6ms/step - loss: 0.1056 - accuracy: 0.9644 - val_loss: 0.5653 - val_accuracy: 0.8444\n",
            "Epoch 36/200\n",
            "1407/1407 [==============================] - 8s 6ms/step - loss: 0.1044 - accuracy: 0.9636 - val_loss: 0.5790 - val_accuracy: 0.8510\n",
            "Epoch 37/200\n",
            "1407/1407 [==============================] - 8s 6ms/step - loss: 0.1057 - accuracy: 0.9644 - val_loss: 0.5384 - val_accuracy: 0.8570\n",
            "Epoch 38/200\n",
            "1407/1407 [==============================] - 8s 6ms/step - loss: 0.0980 - accuracy: 0.9670 - val_loss: 0.5157 - val_accuracy: 0.8624\n",
            "Epoch 39/200\n",
            "1407/1407 [==============================] - 8s 6ms/step - loss: 0.0982 - accuracy: 0.9662 - val_loss: 0.5410 - val_accuracy: 0.8518\n",
            "Epoch 40/200\n",
            "1407/1407 [==============================] - 8s 6ms/step - loss: 0.0940 - accuracy: 0.9689 - val_loss: 0.5351 - val_accuracy: 0.8578\n",
            "Epoch 41/200\n",
            "1407/1407 [==============================] - 8s 6ms/step - loss: 0.0949 - accuracy: 0.9673 - val_loss: 0.5637 - val_accuracy: 0.8574\n",
            "Epoch 42/200\n",
            "1407/1407 [==============================] - 8s 6ms/step - loss: 0.0935 - accuracy: 0.9691 - val_loss: 0.6035 - val_accuracy: 0.8504\n",
            "Epoch 43/200\n",
            "1407/1407 [==============================] - 8s 6ms/step - loss: 0.0936 - accuracy: 0.9688 - val_loss: 0.5480 - val_accuracy: 0.8594\n",
            "Epoch 44/200\n",
            "1407/1407 [==============================] - 8s 6ms/step - loss: 0.0920 - accuracy: 0.9704 - val_loss: 0.5725 - val_accuracy: 0.8456\n",
            "Epoch 45/200\n",
            "1407/1407 [==============================] - 8s 6ms/step - loss: 0.0875 - accuracy: 0.9715 - val_loss: 0.5814 - val_accuracy: 0.8510\n",
            "Epoch 46/200\n",
            "1407/1407 [==============================] - 8s 6ms/step - loss: 0.0816 - accuracy: 0.9727 - val_loss: 0.5673 - val_accuracy: 0.8598\n",
            "Epoch 47/200\n",
            "1407/1407 [==============================] - 8s 6ms/step - loss: 0.0834 - accuracy: 0.9725 - val_loss: 0.6023 - val_accuracy: 0.8508\n",
            "Epoch 48/200\n",
            "1407/1407 [==============================] - 8s 6ms/step - loss: 0.0874 - accuracy: 0.9717 - val_loss: 0.5130 - val_accuracy: 0.8620\n",
            "Epoch 49/200\n",
            "1407/1407 [==============================] - 8s 6ms/step - loss: 0.0817 - accuracy: 0.9730 - val_loss: 0.5635 - val_accuracy: 0.8512\n",
            "Epoch 50/200\n",
            "1407/1407 [==============================] - 8s 6ms/step - loss: 0.0737 - accuracy: 0.9751 - val_loss: 0.5260 - val_accuracy: 0.8552\n",
            "Epoch 51/200\n",
            "1407/1407 [==============================] - 8s 6ms/step - loss: 0.0816 - accuracy: 0.9736 - val_loss: 0.6051 - val_accuracy: 0.8548\n",
            "Epoch 52/200\n",
            "1407/1407 [==============================] - 8s 6ms/step - loss: 0.0798 - accuracy: 0.9748 - val_loss: 0.6071 - val_accuracy: 0.8582\n",
            "Epoch 53/200\n",
            "1407/1407 [==============================] - 8s 6ms/step - loss: 0.0736 - accuracy: 0.9757 - val_loss: 0.5137 - val_accuracy: 0.8630\n",
            "Epoch 54/200\n",
            "1407/1407 [==============================] - 8s 6ms/step - loss: 0.0799 - accuracy: 0.9733 - val_loss: 0.5515 - val_accuracy: 0.8634\n",
            "Epoch 55/200\n",
            "1407/1407 [==============================] - 8s 6ms/step - loss: 0.0710 - accuracy: 0.9757 - val_loss: 0.5364 - val_accuracy: 0.8630\n",
            "Epoch 56/200\n",
            "1407/1407 [==============================] - 8s 6ms/step - loss: 0.0744 - accuracy: 0.9762 - val_loss: 0.5718 - val_accuracy: 0.8652\n",
            "Epoch 57/200\n",
            "1407/1407 [==============================] - 8s 6ms/step - loss: 0.0701 - accuracy: 0.9774 - val_loss: 0.6408 - val_accuracy: 0.8440\n",
            "Epoch 58/200\n",
            "1407/1407 [==============================] - 8s 6ms/step - loss: 0.0720 - accuracy: 0.9761 - val_loss: 0.6027 - val_accuracy: 0.8600\n",
            "Epoch 59/200\n",
            "1407/1407 [==============================] - 8s 6ms/step - loss: 0.0820 - accuracy: 0.9736 - val_loss: 0.5593 - val_accuracy: 0.8596\n",
            "Epoch 60/200\n",
            "1407/1407 [==============================] - 8s 6ms/step - loss: 0.0706 - accuracy: 0.9754 - val_loss: 0.5563 - val_accuracy: 0.8484\n",
            "Epoch 61/200\n",
            "1407/1407 [==============================] - 8s 6ms/step - loss: 0.0701 - accuracy: 0.9774 - val_loss: 0.5132 - val_accuracy: 0.8554\n",
            "Epoch 62/200\n",
            "1407/1407 [==============================] - 8s 6ms/step - loss: 0.0700 - accuracy: 0.9772 - val_loss: 0.6234 - val_accuracy: 0.8640\n",
            "Epoch 63/200\n",
            "1407/1407 [==============================] - 8s 6ms/step - loss: 0.0696 - accuracy: 0.9763 - val_loss: 0.5456 - val_accuracy: 0.8600\n",
            "Epoch 64/200\n",
            "1407/1407 [==============================] - 8s 6ms/step - loss: 0.0670 - accuracy: 0.9779 - val_loss: 0.5696 - val_accuracy: 0.8586\n",
            "Epoch 65/200\n",
            "1407/1407 [==============================] - 8s 6ms/step - loss: 0.0680 - accuracy: 0.9774 - val_loss: 0.6083 - val_accuracy: 0.8576\n",
            "Epoch 66/200\n",
            "1407/1407 [==============================] - 8s 6ms/step - loss: 0.0598 - accuracy: 0.9808 - val_loss: 0.5800 - val_accuracy: 0.8572\n",
            "Epoch 67/200\n",
            "1407/1407 [==============================] - 8s 6ms/step - loss: 0.0711 - accuracy: 0.9776 - val_loss: 0.6311 - val_accuracy: 0.8612\n",
            "Epoch 68/200\n",
            "1407/1407 [==============================] - 8s 6ms/step - loss: 0.0619 - accuracy: 0.9796 - val_loss: 0.6655 - val_accuracy: 0.8580\n",
            "Epoch 69/200\n",
            "1407/1407 [==============================] - 8s 6ms/step - loss: 0.0703 - accuracy: 0.9764 - val_loss: 0.5921 - val_accuracy: 0.8600\n",
            "Epoch 70/200\n",
            "1407/1407 [==============================] - 8s 6ms/step - loss: 0.0602 - accuracy: 0.9808 - val_loss: 0.6293 - val_accuracy: 0.8660\n",
            "Epoch 71/200\n",
            "1407/1407 [==============================] - 8s 6ms/step - loss: 0.0698 - accuracy: 0.9781 - val_loss: 0.5478 - val_accuracy: 0.8588\n",
            "Epoch 72/200\n",
            "1407/1407 [==============================] - 8s 6ms/step - loss: 0.0676 - accuracy: 0.9777 - val_loss: 0.5795 - val_accuracy: 0.8664\n",
            "Epoch 73/200\n",
            "1407/1407 [==============================] - 8s 6ms/step - loss: 0.0649 - accuracy: 0.9787 - val_loss: 0.5387 - val_accuracy: 0.8580\n",
            "Epoch 74/200\n",
            "1407/1407 [==============================] - 8s 6ms/step - loss: 0.0575 - accuracy: 0.9815 - val_loss: 0.6359 - val_accuracy: 0.8620\n",
            "Epoch 75/200\n",
            "1407/1407 [==============================] - 8s 6ms/step - loss: 0.0641 - accuracy: 0.9789 - val_loss: 0.5902 - val_accuracy: 0.8612\n",
            "Epoch 76/200\n",
            "1407/1407 [==============================] - 8s 6ms/step - loss: 0.0598 - accuracy: 0.9800 - val_loss: 0.6106 - val_accuracy: 0.8564\n",
            "Epoch 77/200\n",
            "1407/1407 [==============================] - 8s 6ms/step - loss: 0.0673 - accuracy: 0.9779 - val_loss: 0.6282 - val_accuracy: 0.8600\n",
            "Epoch 78/200\n",
            "1407/1407 [==============================] - 8s 6ms/step - loss: 0.0707 - accuracy: 0.9773 - val_loss: 0.6195 - val_accuracy: 0.8600\n",
            "Epoch 79/200\n",
            "1407/1407 [==============================] - 8s 6ms/step - loss: 0.0645 - accuracy: 0.9797 - val_loss: 0.6541 - val_accuracy: 0.8602\n",
            "Epoch 80/200\n",
            "1407/1407 [==============================] - 8s 6ms/step - loss: 0.0601 - accuracy: 0.9810 - val_loss: 0.6464 - val_accuracy: 0.8650\n",
            "Epoch 81/200\n",
            "1407/1407 [==============================] - 8s 6ms/step - loss: 0.0603 - accuracy: 0.9807 - val_loss: 0.6917 - val_accuracy: 0.8562\n",
            "Epoch 82/200\n",
            "1407/1407 [==============================] - 8s 6ms/step - loss: 0.0600 - accuracy: 0.9805 - val_loss: 0.6147 - val_accuracy: 0.8614\n",
            "Epoch 83/200\n",
            "1407/1407 [==============================] - 8s 6ms/step - loss: 0.0655 - accuracy: 0.9798 - val_loss: 0.6281 - val_accuracy: 0.8654\n",
            "Epoch 84/200\n",
            "1407/1407 [==============================] - 8s 6ms/step - loss: 0.0587 - accuracy: 0.9813 - val_loss: 0.7113 - val_accuracy: 0.8582\n",
            "Epoch 85/200\n",
            "1407/1407 [==============================] - 8s 6ms/step - loss: 0.0593 - accuracy: 0.9807 - val_loss: 0.6533 - val_accuracy: 0.8522\n",
            "Epoch 86/200\n",
            "1407/1407 [==============================] - 8s 6ms/step - loss: 0.0553 - accuracy: 0.9822 - val_loss: 0.6846 - val_accuracy: 0.8522\n",
            "Epoch 87/200\n",
            "1407/1407 [==============================] - 8s 6ms/step - loss: 0.0633 - accuracy: 0.9810 - val_loss: 0.6679 - val_accuracy: 0.8680\n",
            "Epoch 88/200\n",
            "1407/1407 [==============================] - 8s 6ms/step - loss: 0.0582 - accuracy: 0.9808 - val_loss: 0.6496 - val_accuracy: 0.8648\n",
            "Epoch 89/200\n",
            "1407/1407 [==============================] - 8s 6ms/step - loss: 0.0583 - accuracy: 0.9819 - val_loss: 0.6482 - val_accuracy: 0.8642\n",
            "Epoch 90/200\n",
            "1407/1407 [==============================] - 8s 6ms/step - loss: 0.0525 - accuracy: 0.9835 - val_loss: 0.6320 - val_accuracy: 0.8606\n",
            "Epoch 91/200\n",
            "1407/1407 [==============================] - 8s 6ms/step - loss: 0.0604 - accuracy: 0.9799 - val_loss: 0.6625 - val_accuracy: 0.8682\n",
            "Epoch 92/200\n",
            "1407/1407 [==============================] - 8s 6ms/step - loss: 0.0639 - accuracy: 0.9809 - val_loss: 0.6136 - val_accuracy: 0.8648\n",
            "Epoch 93/200\n",
            "1407/1407 [==============================] - 8s 6ms/step - loss: 0.0548 - accuracy: 0.9839 - val_loss: 0.6109 - val_accuracy: 0.8604\n",
            "Epoch 94/200\n",
            "1407/1407 [==============================] - 8s 6ms/step - loss: 0.0599 - accuracy: 0.9819 - val_loss: 0.6684 - val_accuracy: 0.8636\n",
            "Epoch 95/200\n",
            "1407/1407 [==============================] - 8s 6ms/step - loss: 0.0546 - accuracy: 0.9830 - val_loss: 0.6005 - val_accuracy: 0.8586\n",
            "Epoch 96/200\n",
            "1407/1407 [==============================] - 8s 6ms/step - loss: 0.0548 - accuracy: 0.9827 - val_loss: 0.6363 - val_accuracy: 0.8584\n",
            "Epoch 97/200\n",
            "1407/1407 [==============================] - 8s 6ms/step - loss: 0.0524 - accuracy: 0.9829 - val_loss: 0.6237 - val_accuracy: 0.8664\n",
            "Epoch 98/200\n",
            "1407/1407 [==============================] - 8s 6ms/step - loss: 0.0514 - accuracy: 0.9844 - val_loss: 0.6344 - val_accuracy: 0.8610\n",
            "Epoch 99/200\n",
            "1407/1407 [==============================] - 8s 6ms/step - loss: 0.0551 - accuracy: 0.9831 - val_loss: 0.5877 - val_accuracy: 0.8666\n",
            "Epoch 100/200\n",
            "1407/1407 [==============================] - 8s 6ms/step - loss: 0.0526 - accuracy: 0.9831 - val_loss: 0.6320 - val_accuracy: 0.8616\n",
            "Epoch 101/200\n",
            "1407/1407 [==============================] - 8s 6ms/step - loss: 0.0541 - accuracy: 0.9824 - val_loss: 0.6933 - val_accuracy: 0.8576\n",
            "Epoch 102/200\n",
            "1407/1407 [==============================] - 8s 6ms/step - loss: 0.0497 - accuracy: 0.9839 - val_loss: 0.6958 - val_accuracy: 0.8620\n",
            "Epoch 103/200\n",
            "1407/1407 [==============================] - 8s 6ms/step - loss: 0.0569 - accuracy: 0.9826 - val_loss: 0.6685 - val_accuracy: 0.8604\n",
            "Epoch 104/200\n",
            "1407/1407 [==============================] - 8s 6ms/step - loss: 0.0557 - accuracy: 0.9836 - val_loss: 0.7089 - val_accuracy: 0.8644\n",
            "Epoch 105/200\n",
            "1407/1407 [==============================] - 8s 6ms/step - loss: 0.0496 - accuracy: 0.9848 - val_loss: 0.6825 - val_accuracy: 0.8606\n",
            "Epoch 106/200\n",
            "1407/1407 [==============================] - 8s 6ms/step - loss: 0.0563 - accuracy: 0.9827 - val_loss: 0.7867 - val_accuracy: 0.8648\n",
            "Epoch 107/200\n",
            "1407/1407 [==============================] - 8s 6ms/step - loss: 0.0525 - accuracy: 0.9838 - val_loss: 0.6666 - val_accuracy: 0.8646\n",
            "Epoch 108/200\n",
            "1407/1407 [==============================] - 8s 6ms/step - loss: 0.0501 - accuracy: 0.9851 - val_loss: 0.6599 - val_accuracy: 0.8680\n",
            "Epoch 109/200\n",
            "1407/1407 [==============================] - 8s 6ms/step - loss: 0.0533 - accuracy: 0.9838 - val_loss: 0.5881 - val_accuracy: 0.8624\n",
            "Epoch 110/200\n",
            "1407/1407 [==============================] - 8s 6ms/step - loss: 0.0544 - accuracy: 0.9833 - val_loss: 0.6212 - val_accuracy: 0.8558\n",
            "Epoch 111/200\n",
            "1407/1407 [==============================] - 8s 6ms/step - loss: 0.0525 - accuracy: 0.9834 - val_loss: 0.6995 - val_accuracy: 0.8688\n",
            "Epoch 112/200\n",
            "1407/1407 [==============================] - 8s 6ms/step - loss: 0.0462 - accuracy: 0.9862 - val_loss: 0.6618 - val_accuracy: 0.8662\n",
            "Epoch 113/200\n",
            "1407/1407 [==============================] - 8s 6ms/step - loss: 0.0516 - accuracy: 0.9839 - val_loss: 0.6153 - val_accuracy: 0.8606\n",
            "Epoch 114/200\n",
            "1407/1407 [==============================] - 8s 6ms/step - loss: 0.0449 - accuracy: 0.9844 - val_loss: 0.8150 - val_accuracy: 0.8664\n",
            "Epoch 115/200\n",
            "1407/1407 [==============================] - 8s 6ms/step - loss: 0.0529 - accuracy: 0.9840 - val_loss: 0.6952 - val_accuracy: 0.8650\n",
            "Epoch 116/200\n",
            "1407/1407 [==============================] - 8s 6ms/step - loss: 0.0480 - accuracy: 0.9852 - val_loss: 0.7022 - val_accuracy: 0.8606\n",
            "Epoch 117/200\n",
            "1407/1407 [==============================] - 8s 6ms/step - loss: 0.0557 - accuracy: 0.9829 - val_loss: 0.6469 - val_accuracy: 0.8592\n",
            "Epoch 118/200\n",
            "1407/1407 [==============================] - 8s 6ms/step - loss: 0.0570 - accuracy: 0.9831 - val_loss: 0.6398 - val_accuracy: 0.8710\n",
            "Epoch 119/200\n",
            "1407/1407 [==============================] - 8s 6ms/step - loss: 0.0484 - accuracy: 0.9852 - val_loss: 0.6825 - val_accuracy: 0.8626\n",
            "Epoch 120/200\n",
            "1407/1407 [==============================] - 8s 6ms/step - loss: 0.0541 - accuracy: 0.9841 - val_loss: 0.7706 - val_accuracy: 0.8642\n",
            "Epoch 121/200\n",
            "1407/1407 [==============================] - 8s 6ms/step - loss: 0.0474 - accuracy: 0.9857 - val_loss: 0.7073 - val_accuracy: 0.8638\n",
            "Epoch 122/200\n",
            "1407/1407 [==============================] - 8s 6ms/step - loss: 0.0506 - accuracy: 0.9841 - val_loss: 0.7276 - val_accuracy: 0.8656\n",
            "Epoch 123/200\n",
            "1407/1407 [==============================] - 8s 6ms/step - loss: 0.0461 - accuracy: 0.9852 - val_loss: 0.6910 - val_accuracy: 0.8646\n",
            "Epoch 124/200\n",
            "1407/1407 [==============================] - 8s 6ms/step - loss: 0.0482 - accuracy: 0.9846 - val_loss: 0.6750 - val_accuracy: 0.8530\n",
            "Epoch 125/200\n",
            "1407/1407 [==============================] - 8s 6ms/step - loss: 0.0517 - accuracy: 0.9837 - val_loss: 0.7229 - val_accuracy: 0.8608\n",
            "Epoch 126/200\n",
            "1407/1407 [==============================] - 8s 6ms/step - loss: 0.0533 - accuracy: 0.9832 - val_loss: 0.7251 - val_accuracy: 0.8580\n",
            "Epoch 127/200\n",
            "1407/1407 [==============================] - 8s 6ms/step - loss: 0.0488 - accuracy: 0.9854 - val_loss: 0.7148 - val_accuracy: 0.8674\n",
            "Epoch 128/200\n",
            "1407/1407 [==============================] - 8s 6ms/step - loss: 0.0527 - accuracy: 0.9844 - val_loss: 0.7437 - val_accuracy: 0.8636\n",
            "Epoch 129/200\n",
            "1407/1407 [==============================] - 8s 6ms/step - loss: 0.0490 - accuracy: 0.9856 - val_loss: 0.7111 - val_accuracy: 0.8606\n",
            "Epoch 130/200\n",
            "1407/1407 [==============================] - 8s 6ms/step - loss: 0.0480 - accuracy: 0.9855 - val_loss: 0.7874 - val_accuracy: 0.8612\n",
            "Epoch 131/200\n",
            "1407/1407 [==============================] - 8s 6ms/step - loss: 0.0539 - accuracy: 0.9839 - val_loss: 0.6940 - val_accuracy: 0.8650\n",
            "Epoch 132/200\n",
            "1407/1407 [==============================] - 8s 6ms/step - loss: 0.0498 - accuracy: 0.9856 - val_loss: 0.6957 - val_accuracy: 0.8580\n",
            "Epoch 133/200\n",
            "1407/1407 [==============================] - 8s 6ms/step - loss: 0.0465 - accuracy: 0.9854 - val_loss: 0.6734 - val_accuracy: 0.8646\n",
            "Epoch 134/200\n",
            "1407/1407 [==============================] - 8s 6ms/step - loss: 0.0496 - accuracy: 0.9844 - val_loss: 0.7566 - val_accuracy: 0.8656\n",
            "Epoch 135/200\n",
            "1407/1407 [==============================] - 8s 6ms/step - loss: 0.0501 - accuracy: 0.9851 - val_loss: 0.6517 - val_accuracy: 0.8562\n",
            "Epoch 136/200\n",
            "1407/1407 [==============================] - 8s 6ms/step - loss: 0.0482 - accuracy: 0.9847 - val_loss: 0.7079 - val_accuracy: 0.8646\n",
            "Epoch 137/200\n",
            "1407/1407 [==============================] - 8s 6ms/step - loss: 0.0481 - accuracy: 0.9861 - val_loss: 0.6892 - val_accuracy: 0.8666\n",
            "Epoch 138/200\n",
            "1407/1407 [==============================] - 8s 6ms/step - loss: 0.0415 - accuracy: 0.9879 - val_loss: 0.6795 - val_accuracy: 0.8654\n",
            "Epoch 139/200\n",
            "1407/1407 [==============================] - 8s 6ms/step - loss: 0.0443 - accuracy: 0.9864 - val_loss: 0.7057 - val_accuracy: 0.8684\n",
            "Epoch 140/200\n",
            "1407/1407 [==============================] - 8s 6ms/step - loss: 0.0423 - accuracy: 0.9866 - val_loss: 0.7361 - val_accuracy: 0.8678\n",
            "Epoch 141/200\n",
            "1407/1407 [==============================] - 8s 6ms/step - loss: 0.0479 - accuracy: 0.9856 - val_loss: 0.7090 - val_accuracy: 0.8590\n",
            "Epoch 142/200\n",
            "1407/1407 [==============================] - 8s 6ms/step - loss: 0.0493 - accuracy: 0.9850 - val_loss: 0.7605 - val_accuracy: 0.8712\n",
            "Epoch 143/200\n",
            "1407/1407 [==============================] - 8s 6ms/step - loss: 0.0581 - accuracy: 0.9834 - val_loss: 0.7202 - val_accuracy: 0.8614\n",
            "Epoch 144/200\n",
            "1407/1407 [==============================] - 8s 6ms/step - loss: 0.0455 - accuracy: 0.9864 - val_loss: 0.7457 - val_accuracy: 0.8676\n",
            "Epoch 145/200\n",
            "1407/1407 [==============================] - 8s 6ms/step - loss: 0.0488 - accuracy: 0.9857 - val_loss: 0.7552 - val_accuracy: 0.8684\n",
            "Epoch 146/200\n",
            "1407/1407 [==============================] - 8s 6ms/step - loss: 0.0520 - accuracy: 0.9856 - val_loss: 0.7472 - val_accuracy: 0.8636\n",
            "Epoch 147/200\n",
            "1407/1407 [==============================] - 8s 6ms/step - loss: 0.0483 - accuracy: 0.9855 - val_loss: 0.6900 - val_accuracy: 0.8646\n",
            "Epoch 148/200\n",
            "1407/1407 [==============================] - 8s 6ms/step - loss: 0.0470 - accuracy: 0.9858 - val_loss: 0.6763 - val_accuracy: 0.8626\n",
            "Epoch 149/200\n",
            "1407/1407 [==============================] - 8s 6ms/step - loss: 0.0494 - accuracy: 0.9857 - val_loss: 0.7303 - val_accuracy: 0.8644\n",
            "Epoch 150/200\n",
            "1407/1407 [==============================] - 8s 6ms/step - loss: 0.0464 - accuracy: 0.9870 - val_loss: 0.8937 - val_accuracy: 0.8676\n",
            "Epoch 151/200\n",
            "1407/1407 [==============================] - 8s 6ms/step - loss: 0.0502 - accuracy: 0.9854 - val_loss: 0.7441 - val_accuracy: 0.8668\n",
            "Epoch 152/200\n",
            "1407/1407 [==============================] - 8s 6ms/step - loss: 0.0477 - accuracy: 0.9859 - val_loss: 0.7455 - val_accuracy: 0.8648\n",
            "Epoch 153/200\n",
            "1407/1407 [==============================] - 8s 6ms/step - loss: 0.0470 - accuracy: 0.9862 - val_loss: 0.7742 - val_accuracy: 0.8528\n",
            "Epoch 154/200\n",
            "1407/1407 [==============================] - 8s 6ms/step - loss: 0.0465 - accuracy: 0.9861 - val_loss: 0.7985 - val_accuracy: 0.8696\n",
            "Epoch 155/200\n",
            "1407/1407 [==============================] - 8s 6ms/step - loss: 0.0435 - accuracy: 0.9865 - val_loss: 0.7025 - val_accuracy: 0.8574\n",
            "Epoch 156/200\n",
            "1407/1407 [==============================] - 8s 6ms/step - loss: 0.0427 - accuracy: 0.9877 - val_loss: 0.7700 - val_accuracy: 0.8648\n",
            "Epoch 157/200\n",
            "1407/1407 [==============================] - 8s 6ms/step - loss: 0.0535 - accuracy: 0.9850 - val_loss: 0.8106 - val_accuracy: 0.8640\n",
            "Epoch 158/200\n",
            "1407/1407 [==============================] - 8s 6ms/step - loss: 0.0531 - accuracy: 0.9850 - val_loss: 0.8647 - val_accuracy: 0.8706\n",
            "Epoch 159/200\n",
            "1407/1407 [==============================] - 8s 6ms/step - loss: 0.0419 - accuracy: 0.9883 - val_loss: 0.6455 - val_accuracy: 0.8594\n",
            "Epoch 160/200\n",
            "1407/1407 [==============================] - 8s 6ms/step - loss: 0.0489 - accuracy: 0.9852 - val_loss: 0.7890 - val_accuracy: 0.8602\n",
            "Epoch 161/200\n",
            "1407/1407 [==============================] - 8s 6ms/step - loss: 0.0521 - accuracy: 0.9860 - val_loss: 0.7331 - val_accuracy: 0.8684\n",
            "Epoch 162/200\n",
            "1407/1407 [==============================] - 8s 6ms/step - loss: 0.0451 - accuracy: 0.9872 - val_loss: 0.7662 - val_accuracy: 0.8642\n",
            "Epoch 163/200\n",
            "1407/1407 [==============================] - 8s 6ms/step - loss: 0.0504 - accuracy: 0.9855 - val_loss: 0.7146 - val_accuracy: 0.8626\n",
            "Epoch 164/200\n",
            "1407/1407 [==============================] - 8s 6ms/step - loss: 0.0478 - accuracy: 0.9859 - val_loss: 0.8357 - val_accuracy: 0.8664\n",
            "Epoch 165/200\n",
            "1407/1407 [==============================] - 8s 6ms/step - loss: 0.0438 - accuracy: 0.9870 - val_loss: 0.6753 - val_accuracy: 0.8640\n",
            "Epoch 166/200\n",
            "1407/1407 [==============================] - 8s 6ms/step - loss: 0.0444 - accuracy: 0.9870 - val_loss: 0.7583 - val_accuracy: 0.8664\n",
            "Epoch 167/200\n",
            "1407/1407 [==============================] - 8s 6ms/step - loss: 0.0432 - accuracy: 0.9875 - val_loss: 0.6769 - val_accuracy: 0.8620\n",
            "Epoch 168/200\n",
            "1407/1407 [==============================] - 8s 6ms/step - loss: 0.0477 - accuracy: 0.9858 - val_loss: 0.7173 - val_accuracy: 0.8682\n",
            "Epoch 169/200\n",
            "1407/1407 [==============================] - 8s 6ms/step - loss: 0.0463 - accuracy: 0.9872 - val_loss: 0.7165 - val_accuracy: 0.8708\n",
            "Epoch 170/200\n",
            "1407/1407 [==============================] - 8s 6ms/step - loss: 0.0372 - accuracy: 0.9893 - val_loss: 0.7773 - val_accuracy: 0.8612\n",
            "Epoch 171/200\n",
            "1407/1407 [==============================] - 8s 6ms/step - loss: 0.0442 - accuracy: 0.9874 - val_loss: 0.7533 - val_accuracy: 0.8674\n",
            "Epoch 172/200\n",
            "1407/1407 [==============================] - 8s 6ms/step - loss: 0.0438 - accuracy: 0.9874 - val_loss: 0.8473 - val_accuracy: 0.8646\n",
            "Epoch 173/200\n",
            "1407/1407 [==============================] - 8s 6ms/step - loss: 0.0430 - accuracy: 0.9872 - val_loss: 0.8738 - val_accuracy: 0.8720\n",
            "Epoch 174/200\n",
            "1407/1407 [==============================] - 8s 6ms/step - loss: 0.0486 - accuracy: 0.9865 - val_loss: 0.6317 - val_accuracy: 0.8618\n",
            "Epoch 175/200\n",
            "1407/1407 [==============================] - 8s 6ms/step - loss: 0.0460 - accuracy: 0.9870 - val_loss: 0.7372 - val_accuracy: 0.8600\n",
            "Epoch 176/200\n",
            "1407/1407 [==============================] - 8s 6ms/step - loss: 0.0423 - accuracy: 0.9881 - val_loss: 0.7462 - val_accuracy: 0.8718\n",
            "Epoch 177/200\n",
            "1407/1407 [==============================] - 8s 6ms/step - loss: 0.0416 - accuracy: 0.9878 - val_loss: 0.6455 - val_accuracy: 0.8574\n",
            "Epoch 178/200\n",
            "1407/1407 [==============================] - 8s 6ms/step - loss: 0.0472 - accuracy: 0.9864 - val_loss: 0.6599 - val_accuracy: 0.8686\n",
            "Epoch 179/200\n",
            "1407/1407 [==============================] - 8s 6ms/step - loss: 0.0408 - accuracy: 0.9887 - val_loss: 0.7381 - val_accuracy: 0.8668\n",
            "Epoch 180/200\n",
            "1407/1407 [==============================] - 8s 6ms/step - loss: 0.0422 - accuracy: 0.9876 - val_loss: 0.7491 - val_accuracy: 0.8692\n",
            "Epoch 181/200\n",
            "1407/1407 [==============================] - 8s 6ms/step - loss: 0.0410 - accuracy: 0.9879 - val_loss: 0.6992 - val_accuracy: 0.8662\n",
            "Epoch 182/200\n",
            "1407/1407 [==============================] - 8s 6ms/step - loss: 0.0462 - accuracy: 0.9881 - val_loss: 0.7241 - val_accuracy: 0.8722\n",
            "Epoch 183/200\n",
            "1407/1407 [==============================] - 8s 6ms/step - loss: 0.0472 - accuracy: 0.9871 - val_loss: 0.7360 - val_accuracy: 0.8668\n",
            "Epoch 184/200\n",
            "1407/1407 [==============================] - 8s 6ms/step - loss: 0.0454 - accuracy: 0.9874 - val_loss: 0.7620 - val_accuracy: 0.8660\n",
            "Epoch 185/200\n",
            "1407/1407 [==============================] - 8s 6ms/step - loss: 0.0449 - accuracy: 0.9871 - val_loss: 0.7119 - val_accuracy: 0.8642\n",
            "Epoch 186/200\n",
            "1407/1407 [==============================] - 8s 6ms/step - loss: 0.0435 - accuracy: 0.9873 - val_loss: 0.7751 - val_accuracy: 0.8620\n",
            "Epoch 187/200\n",
            "1407/1407 [==============================] - 8s 6ms/step - loss: 0.0488 - accuracy: 0.9869 - val_loss: 0.7624 - val_accuracy: 0.8604\n",
            "Epoch 188/200\n",
            "1407/1407 [==============================] - 8s 6ms/step - loss: 0.0373 - accuracy: 0.9892 - val_loss: 0.7863 - val_accuracy: 0.8626\n",
            "Epoch 189/200\n",
            "1407/1407 [==============================] - 8s 6ms/step - loss: 0.0391 - accuracy: 0.9893 - val_loss: 0.7901 - val_accuracy: 0.8712\n",
            "Epoch 190/200\n",
            "1407/1407 [==============================] - 8s 6ms/step - loss: 0.0434 - accuracy: 0.9875 - val_loss: 0.7173 - val_accuracy: 0.8636\n",
            "Epoch 191/200\n",
            "1407/1407 [==============================] - 8s 6ms/step - loss: 0.0496 - accuracy: 0.9855 - val_loss: 0.6643 - val_accuracy: 0.8694\n",
            "Epoch 192/200\n",
            "1407/1407 [==============================] - 8s 6ms/step - loss: 0.0357 - accuracy: 0.9902 - val_loss: 0.7586 - val_accuracy: 0.8662\n",
            "Epoch 193/200\n",
            "1407/1407 [==============================] - 8s 6ms/step - loss: 0.0456 - accuracy: 0.9874 - val_loss: 0.8048 - val_accuracy: 0.8644\n",
            "Epoch 194/200\n",
            "1407/1407 [==============================] - 8s 6ms/step - loss: 0.0373 - accuracy: 0.9888 - val_loss: 0.7123 - val_accuracy: 0.8602\n",
            "Epoch 195/200\n",
            "1407/1407 [==============================] - 8s 6ms/step - loss: 0.0427 - accuracy: 0.9885 - val_loss: 0.8687 - val_accuracy: 0.8656\n",
            "Epoch 196/200\n",
            "1407/1407 [==============================] - 8s 6ms/step - loss: 0.0427 - accuracy: 0.9878 - val_loss: 0.8337 - val_accuracy: 0.8666\n",
            "Epoch 197/200\n",
            "1407/1407 [==============================] - 8s 6ms/step - loss: 0.0459 - accuracy: 0.9874 - val_loss: 0.6779 - val_accuracy: 0.8656\n",
            "Epoch 198/200\n",
            "1407/1407 [==============================] - 8s 6ms/step - loss: 0.0369 - accuracy: 0.9892 - val_loss: 0.7520 - val_accuracy: 0.8684\n",
            "Epoch 199/200\n",
            "1407/1407 [==============================] - 8s 6ms/step - loss: 0.0397 - accuracy: 0.9892 - val_loss: 0.7574 - val_accuracy: 0.8660\n",
            "Epoch 200/200\n",
            "1407/1407 [==============================] - 8s 6ms/step - loss: 0.0412 - accuracy: 0.9885 - val_loss: 0.8973 - val_accuracy: 0.8698\n"
          ],
          "name": "stdout"
        }
      ]
    },
    {
      "cell_type": "code",
      "metadata": {
        "colab": {
          "base_uri": "https://localhost:8080/",
          "height": 282
        },
        "id": "ssyjuyD9L8NG",
        "outputId": "a15bd0b6-a628-488b-f16d-44b8b984ee55"
      },
      "source": [
        "plt.plot(r.history['loss'], label='loss')\r\n",
        "plt.plot(r.history['val_loss'], label='val_loss')\r\n",
        "plt.legend()"
      ],
      "execution_count": 9,
      "outputs": [
        {
          "output_type": "execute_result",
          "data": {
            "text/plain": [
              "<matplotlib.legend.Legend at 0x7f8cf417fdd0>"
            ]
          },
          "metadata": {
            "tags": []
          },
          "execution_count": 9
        },
        {
          "output_type": "display_data",
          "data": {
            "image/png": "[encoded data removed]",
            "text/plain": [
              "<Figure size 432x288 with 1 Axes>"
            ]
          },
          "metadata": {
            "tags": [],
            "needs_background": "light"
          }
        }
      ]
    },
    {
      "cell_type": "code",
      "metadata": {
        "colab": {
          "base_uri": "https://localhost:8080/",
          "height": 282
        },
        "id": "CH2y8BLtSOWb",
        "outputId": "9fba27de-ce79-49a6-cfd8-6e485753b0b4"
      },
      "source": [
        "plt.plot(r.history['accuracy'], label='acc')\r\n",
        "plt.plot(r.history['val_accuracy'], label='val_acc')\r\n",
        "plt.legend()"
      ],
      "execution_count": 10,
      "outputs": [
        {
          "output_type": "execute_result",
          "data": {
            "text/plain": [
              "<matplotlib.legend.Legend at 0x7f8ce2ef9390>"
            ]
          },
          "metadata": {
            "tags": []
          },
          "execution_count": 10
        },
        {
          "output_type": "display_data",
          "data": {
            "image/png": "[encoded data removed]",
            "text/plain": [
              "<Figure size 432x288 with 1 Axes>"
            ]
          },
          "metadata": {
            "tags": [],
            "needs_background": "light"
          }
        }
      ]
    },
    {
      "cell_type": "code",
      "metadata": {
        "colab": {
          "base_uri": "https://localhost:8080/"
        },
        "id": "7XLjKYooSWBE",
        "outputId": "d62007d1-bcd3-4cbe-e79d-bf7647bff30c"
      },
      "source": [
        "test_loss, test_acc = model.evaluate(x_test,  test_labels, verbose=2)"
      ],
      "execution_count": 11,
      "outputs": [
        {
          "output_type": "stream",
          "text": [
            "313/313 - 1s - loss: 1.0819 - accuracy: 0.8511\n"
          ],
          "name": "stdout"
        }
      ]
    },
    {
      "cell_type": "code",
      "metadata": {
        "colab": {
          "base_uri": "https://localhost:8080/"
        },
        "id": "t_1x9-7pVfIj",
        "outputId": "361fcf18-0453-4cfd-a81c-390eab6c0e6b"
      },
      "source": [
        "print(test_acc)\r\n"
      ],
      "execution_count": 12,
      "outputs": [
        {
          "output_type": "stream",
          "text": [
            "0.8511000275611877\n"
          ],
          "name": "stdout"
        }
      ]
    },
    {
      "cell_type": "code",
      "metadata": {
        "id": "yswbD4a5VlrL"
      },
      "source": [
        ""
      ],
      "execution_count": null,
      "outputs": []
    }
  ]
}